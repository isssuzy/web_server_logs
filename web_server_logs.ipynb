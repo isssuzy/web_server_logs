{
  "nbformat": 4,
  "nbformat_minor": 0,
  "metadata": {
    "colab": {
      "provenance": []
    },
    "kernelspec": {
      "name": "python3",
      "display_name": "Python 3"
    },
    "language_info": {
      "name": "python"
    }
  },
  "cells": [
    {
      "cell_type": "code",
      "source": [
        "pip install pyspark py4j"
      ],
      "metadata": {
        "id": "rmqsQ4Rs3Cz_"
      },
      "execution_count": null,
      "outputs": []
    },
    {
      "cell_type": "code",
      "source": [
        "pip install faker"
      ],
      "metadata": {
        "id": "CqBdiaHVhM4B"
      },
      "execution_count": null,
      "outputs": []
    },
    {
      "cell_type": "code",
      "source": [
        "# Сгенерировали 100,000 записей логов и сохранили их в CSV-файл\n",
        "import csv\n",
        "from faker import Faker\n",
        "import random\n",
        "\n",
        "fake = Faker()\n",
        "\n",
        "num_records = 100000\n",
        "\n",
        "http_methods = ['GET', 'POST', 'PUT', 'DELETE']\n",
        "response_codes = [200, 301, 404, 500]\n",
        "\n",
        "file_path = \"web_server_logs.csv\"\n",
        "\n",
        "with open(file_path, mode='w', newline='') as file:\n",
        "    writer = csv.writer(file)\n",
        "    writer.writerow(['ip', 'timestamp', 'method', 'url', 'response_code', 'response_size'])\n",
        "\n",
        "    for _ in range(num_records):\n",
        "        ip = fake.ipv4()\n",
        "        timestamp = fake.date_time_this_year().isoformat()\n",
        "        method = random.choice(http_methods)\n",
        "        url = fake.uri_path()\n",
        "        response_code = random.choice(response_codes)\n",
        "        response_size = random.randint(100, 10000)\n",
        "\n",
        "        writer.writerow([ip, timestamp, method, url, response_code, response_size])\n",
        "\n",
        "print(f\"Сгенерировано {num_records} записей и сохранено в {file_path}\")"
      ],
      "metadata": {
        "id": "U0SGnMLchTpj"
      },
      "execution_count": null,
      "outputs": []
    },
    {
      "cell_type": "code",
      "source": [
        "from pyspark.sql import SparkSession\n",
        "from pyspark.sql.functions import to_timestamp, col, count, sum, to_date\n",
        "\n",
        "# создаем спарк сессию\n",
        "spark = SparkSession.builder.appName('records').getOrCreate()\n",
        "\n",
        "# читаем наш файл\n",
        "data_df = spark.read.csv('web_server_logs.csv', header=True, inferSchema=True)\n",
        "\n",
        "# переводим столбец 'timestamp' в формат даты (формат 'timestamp' не пригодился)\n",
        "data_df = data_df.withColumn('timestamp', to_date('timestamp', 'yyyy-mm-dd' ))\n",
        "\n",
        "# количество запросов для каждого IP, выводим 10 самых активных IP\n",
        "top_ip = data_df.groupBy('ip').count().withColumnRenamed('count', 'request_count').orderBy(col('request_count').desc()).limit(10)\n",
        "top_ip.show()\n",
        "\n",
        "# количество запросов для каждого HTTP метода\n",
        "methods = data_df.groupBy('method').count().withColumnRenamed(\"count\",\"method_count\").orderBy(col('method_count').desc())\n",
        "methods.show()\n",
        "\n",
        "# количество запросов с кодом ответа 404\n",
        "num_of_404 = data_df.filter(col('response_code') == 404).count()\n",
        "print(f'Number of 404 response codes: {num_of_404}')\n",
        "\n",
        "# сумма размеров ответов отсортированных по дате\n",
        "response_size_to_date = data_df.groupBy('timestamp').agg(sum(col('response_size')).alias('response_size')).orderBy('timestamp')\n",
        "response_size_to_date.show()"
      ],
      "metadata": {
        "id": "QDO2fUKpj_XK",
        "colab": {
          "base_uri": "https://localhost:8080/"
        },
        "outputId": "a232bd77-00fc-4b5c-e568-0c2951bcec5b"
      },
      "execution_count": 9,
      "outputs": [
        {
          "output_type": "stream",
          "name": "stdout",
          "text": [
            "+---------------+-------------+\n",
            "|             ip|request_count|\n",
            "+---------------+-------------+\n",
            "|   88.104.65.46|            2|\n",
            "| 214.177.57.171|            2|\n",
            "| 114.16.181.188|            1|\n",
            "|  50.247.213.23|            1|\n",
            "| 51.226.248.128|            1|\n",
            "| 112.135.37.215|            1|\n",
            "|183.193.162.201|            1|\n",
            "|    56.45.59.90|            1|\n",
            "|  46.180.172.64|            1|\n",
            "|  90.118.185.90|            1|\n",
            "+---------------+-------------+\n",
            "\n",
            "+------+------------+\n",
            "|method|method_count|\n",
            "+------+------------+\n",
            "|   GET|       25062|\n",
            "|   PUT|       25023|\n",
            "|DELETE|       24969|\n",
            "|  POST|       24946|\n",
            "+------+------------+\n",
            "\n",
            "Number of 404 response codes: 24928\n",
            "+----------+-------------+\n",
            "| timestamp|response_size|\n",
            "+----------+-------------+\n",
            "|2024-01-01|      1815940|\n",
            "|2024-01-02|      1800430|\n",
            "|2024-01-03|      1508636|\n",
            "|2024-01-04|      1852819|\n",
            "|2024-01-05|      1827931|\n",
            "|2024-01-06|      1693317|\n",
            "|2024-01-07|      1984794|\n",
            "|2024-01-08|      1898371|\n",
            "|2024-01-09|      1968440|\n",
            "|2024-01-10|      1556708|\n",
            "|2024-01-11|      2022402|\n",
            "|2024-01-12|      1885689|\n",
            "|2024-01-13|      2041963|\n",
            "|2024-01-14|      1662798|\n",
            "|2024-01-15|      1924226|\n",
            "|2024-01-16|      1836934|\n",
            "|2024-01-17|      1653948|\n",
            "|2024-01-18|      1831768|\n",
            "|2024-01-19|      1702960|\n",
            "|2024-01-20|      1860762|\n",
            "+----------+-------------+\n",
            "only showing top 20 rows\n",
            "\n"
          ]
        }
      ]
    }
  ]
}