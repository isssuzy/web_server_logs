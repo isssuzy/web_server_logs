{
 "cells": [
  {
   "cell_type": "code",
   "execution_count": 4,
   "id": "7a8624dc-182f-44be-961a-b2368043a090",
   "metadata": {},
   "outputs": [
    {
     "name": "stdout",
     "output_type": "stream",
     "text": [
      "+---------------+-------------+\n",
      "|             ip|request_count|\n",
      "+---------------+-------------+\n",
      "|   88.104.65.46|            2|\n",
      "| 214.177.57.171|            2|\n",
      "| 114.16.181.188|            1|\n",
      "|  50.247.213.23|            1|\n",
      "| 51.226.248.128|            1|\n",
      "| 112.135.37.215|            1|\n",
      "|183.193.162.201|            1|\n",
      "|    56.45.59.90|            1|\n",
      "|  46.180.172.64|            1|\n",
      "|  90.118.185.90|            1|\n",
      "+---------------+-------------+\n",
      "\n",
      "+------+------------+\n",
      "|method|method_count|\n",
      "+------+------------+\n",
      "|   GET|       25062|\n",
      "|   PUT|       25023|\n",
      "|DELETE|       24969|\n",
      "|  POST|       24946|\n",
      "+------+------------+\n",
      "\n",
      "+----------+-------------+\n",
      "| timestamp|response_size|\n",
      "+----------+-------------+\n",
      "|2024-01-01|       372550|\n",
      "|2024-01-02|       487168|\n",
      "|2024-01-03|       405960|\n",
      "|2024-01-04|       474136|\n",
      "|2024-01-05|       394010|\n",
      "|2024-01-06|       425517|\n",
      "|2024-01-07|       468646|\n",
      "|2024-01-08|       456236|\n",
      "|2024-01-09|       508468|\n",
      "|2024-01-10|       348437|\n",
      "|2024-01-11|       482311|\n",
      "|2024-01-12|       443389|\n",
      "|2024-01-13|       534983|\n",
      "|2024-01-14|       425310|\n",
      "|2024-01-15|       454810|\n",
      "|2024-01-16|       464058|\n",
      "|2024-01-17|       391284|\n",
      "|2024-01-18|       535387|\n",
      "|2024-01-19|       435232|\n",
      "|2024-01-20|       432864|\n",
      "+----------+-------------+\n",
      "only showing top 20 rows\n",
      "\n"
     ]
    }
   ],
   "source": [
    "\n",
    "from pyspark.sql import SparkSession\n",
    "from pyspark.sql.functions import to_timestamp, col, count, sum, to_date\n",
    "\n",
    "\n",
    "spark = SparkSession.builder.appName('records').getOrCreate()\n",
    "\n",
    "data_df = spark.read.csv('web_server_logs.csv', header=True, inferSchema=True)\n",
    "\n",
    "data_df = data_df.withColumn('timestamp', to_date('timestamp', 'yyyy-mm-dd' ))\n",
    "\n",
    "top_ip = data_df.groupBy('ip').count().withColumnRenamed('count', 'request_count').orderBy(col('request_count').desc()).limit(10)\n",
    "top_ip.show()\n",
    "\n",
    "methods = data_df.groupBy('method').count().withColumnRenamed(\"count\",\"method_count\").orderBy(col('method_count').desc())\n",
    "methods.show()\n",
    "\n",
    "num_of_404 = data_df.filter(col('response_code')==404).groupBy('timestamp').agg(sum(col('response_size')).alias('response_size')).orderBy('timestamp')\n",
    "num_of_404.show()"
   ]
  }
 ],
 "metadata": {
  "kernelspec": {
   "display_name": "Python 3 (ipykernel)",
   "language": "python",
   "name": "python3"
  },
  "language_info": {
   "codemirror_mode": {
    "name": "ipython",
    "version": 3
   },
   "file_extension": ".py",
   "mimetype": "text/x-python",
   "name": "python",
   "nbconvert_exporter": "python",
   "pygments_lexer": "ipython3",
   "version": "3.10.0"
  }
 },
 "nbformat": 4,
 "nbformat_minor": 5
}
